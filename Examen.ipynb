{
 "cells": [
  {
   "cell_type": "code",
   "execution_count": 1,
   "id": "d1fb3742-0215-4cfe-b3cf-6696693c914d",
   "metadata": {},
   "outputs": [],
   "source": [
    "# 7 \n",
    "# 8 Discretos\n",
    "# ojiva 0 a 100 FrAc | histograma fr\n",
    "# 12 sumar todos dividir entre 6 clases (rango esa mmda)| fr histograma, obviamente primero fa\n",
    "# 15 barras o pastel, solo una | opinion"
   ]
  },
  {
   "cell_type": "code",
   "execution_count": 2,
   "id": "e373872d-74c6-4dce-b6c5-66a565a6cf99",
   "metadata": {},
   "outputs": [
    {
     "name": "stdout",
     "output_type": "stream",
     "text": [
      "Setup terminado\n"
     ]
    }
   ],
   "source": [
    "import CodeBase.Datos_Fa_Fr_FrAc as simpleData \n",
    "import CodeBase.DatosDiscretosYCualitativos as dtDisc \n",
    "import CodeBase.DatosContinuos as dtCont\n",
    "import CodeBase.GenerarGraficas as graf \n",
    "import CodeBase.CrearTabla as tb"
   ]
  },
  {
   "cell_type": "markdown",
   "id": "9398b813-be91-4eea-93f6-64e02b4deb05",
   "metadata": {},
   "source": [
    "## Ejercicio 7\n",
    "*Deporte.* Se entrevistó a 30 personas para que indicaran cuál es su equipo de futbol preferido. Los resultados fueron los siguientes:  \n",
    "**a.** Construye la distribución de frecuencias correspondiente.  \n",
    "**b.** Construye un diagrama de barras y uno circular.  \n",
    "**c.** Discute con tus compañeros la información que se desprende de las gráficas anteriores.  "
   ]
  },
  {
   "cell_type": "code",
   "execution_count": 3,
   "id": "ee6ab077-8557-4b50-b97a-fb1fbfd3503f",
   "metadata": {},
   "outputs": [
    {
     "ename": "NameError",
     "evalue": "name 'datosDiscretos' is not defined",
     "output_type": "error",
     "traceback": [
      "\u001b[0;31m---------------------------------------------------------------------------\u001b[0m",
      "\u001b[0;31mNameError\u001b[0m                                 Traceback (most recent call last)",
      "Cell \u001b[0;32mIn[3], line 7\u001b[0m\n\u001b[1;32m      1\u001b[0m datosEj7 \u001b[38;5;241m=\u001b[39m [\n\u001b[1;32m      2\u001b[0m     \u001b[38;5;124m'\u001b[39m\u001b[38;5;124mPumas\u001b[39m\u001b[38;5;124m'\u001b[39m,\u001b[38;5;124m'\u001b[39m\u001b[38;5;124mAmérica\u001b[39m\u001b[38;5;124m'\u001b[39m,\u001b[38;5;124m'\u001b[39m\u001b[38;5;124mChivas\u001b[39m\u001b[38;5;124m'\u001b[39m,\u001b[38;5;124m'\u001b[39m\u001b[38;5;124mPumas\u001b[39m\u001b[38;5;124m'\u001b[39m,\u001b[38;5;124m'\u001b[39m\u001b[38;5;124mChivas\u001b[39m\u001b[38;5;124m'\u001b[39m,\u001b[38;5;124m'\u001b[39m\u001b[38;5;124mChivas\u001b[39m\u001b[38;5;124m'\u001b[39m,\u001b[38;5;124m'\u001b[39m\u001b[38;5;124mAmérica\u001b[39m\u001b[38;5;124m'\u001b[39m,\u001b[38;5;124m'\u001b[39m\u001b[38;5;124mToluca\u001b[39m\u001b[38;5;124m'\u001b[39m,\u001b[38;5;124m'\u001b[39m\u001b[38;5;124mToluca\u001b[39m\u001b[38;5;124m'\u001b[39m,\u001b[38;5;124m'\u001b[39m\u001b[38;5;124mPumas\u001b[39m\u001b[38;5;124m'\u001b[39m,\n\u001b[1;32m      3\u001b[0m     \u001b[38;5;124m'\u001b[39m\u001b[38;5;124mSantos\u001b[39m\u001b[38;5;124m'\u001b[39m,\u001b[38;5;124m'\u001b[39m\u001b[38;5;124mNecaxa\u001b[39m\u001b[38;5;124m'\u001b[39m,\u001b[38;5;124m'\u001b[39m\u001b[38;5;124mAmérica\u001b[39m\u001b[38;5;124m'\u001b[39m,\u001b[38;5;124m'\u001b[39m\u001b[38;5;124mAmérica\u001b[39m\u001b[38;5;124m'\u001b[39m,\u001b[38;5;124m'\u001b[39m\u001b[38;5;124mAmérica\u001b[39m\u001b[38;5;124m'\u001b[39m,\u001b[38;5;124m'\u001b[39m\u001b[38;5;124mPumas\u001b[39m\u001b[38;5;124m'\u001b[39m,\u001b[38;5;124m'\u001b[39m\u001b[38;5;124mSantos\u001b[39m\u001b[38;5;124m'\u001b[39m,\u001b[38;5;124m'\u001b[39m\u001b[38;5;124mPumas\u001b[39m\u001b[38;5;124m'\u001b[39m,\u001b[38;5;124m'\u001b[39m\u001b[38;5;124mPumas\u001b[39m\u001b[38;5;124m'\u001b[39m,\u001b[38;5;124m'\u001b[39m\u001b[38;5;124mPumas\u001b[39m\u001b[38;5;124m'\u001b[39m,\n\u001b[1;32m      4\u001b[0m     \u001b[38;5;124m'\u001b[39m\u001b[38;5;124mAmérica\u001b[39m\u001b[38;5;124m'\u001b[39m,\u001b[38;5;124m'\u001b[39m\u001b[38;5;124mChivas\u001b[39m\u001b[38;5;124m'\u001b[39m,\u001b[38;5;124m'\u001b[39m\u001b[38;5;124mAmérica\u001b[39m\u001b[38;5;124m'\u001b[39m,\u001b[38;5;124m'\u001b[39m\u001b[38;5;124mPumas\u001b[39m\u001b[38;5;124m'\u001b[39m,\u001b[38;5;124m'\u001b[39m\u001b[38;5;124mNecaxa\u001b[39m\u001b[38;5;124m'\u001b[39m,\u001b[38;5;124m'\u001b[39m\u001b[38;5;124mToluca\u001b[39m\u001b[38;5;124m'\u001b[39m,\u001b[38;5;124m'\u001b[39m\u001b[38;5;124mChivas\u001b[39m\u001b[38;5;124m'\u001b[39m,\u001b[38;5;124m'\u001b[39m\u001b[38;5;124mAmérica\u001b[39m\u001b[38;5;124m'\u001b[39m,\u001b[38;5;124m'\u001b[39m\u001b[38;5;124mToluca\u001b[39m\u001b[38;5;124m'\u001b[39m,\u001b[38;5;124m'\u001b[39m\u001b[38;5;124mSantos\u001b[39m\u001b[38;5;124m'\u001b[39m\n\u001b[1;32m      5\u001b[0m ]\n\u001b[0;32m----> 7\u001b[0m clases, fa, faAc, fr, frAc \u001b[38;5;241m=\u001b[39m dtDisc\u001b[38;5;241m.\u001b[39mgenerateQualitativeData(\u001b[43mdatosDiscretos\u001b[49m)\n\u001b[1;32m      9\u001b[0m frStr, frAcStr \u001b[38;5;241m=\u001b[39m tb\u001b[38;5;241m.\u001b[39mage\n\u001b[1;32m     12\u001b[0m \u001b[38;5;66;03m# Creamos la tabla\u001b[39;00m\n",
      "\u001b[0;31mNameError\u001b[0m: name 'datosDiscretos' is not defined"
     ]
    }
   ],
   "source": [
    "datosEj7 = [\n",
    "    'Pumas','América','Chivas','Pumas','Chivas','Chivas','América','Toluca','Toluca','Pumas',\n",
    "    'Santos','Necaxa','América','América','América','Pumas','Santos','Pumas','Pumas','Pumas',\n",
    "    'América','Chivas','América','Pumas','Necaxa','Toluca','Chivas','América','Toluca','Santos'\n",
    "]\n",
    "\n",
    "clases, fa, faAc, fr, frAc = dtDisc.generateQualitativeData(datosDiscretos)\n",
    "\n",
    "frStr, frAcStr = tb.age\n",
    "\n",
    "\n",
    "# Creamos la tabla\n",
    "encabezados = [\"Clases\", \"     Fa\", \"      Fr\", \"   Fr Acum.\"]\n",
    "contenido = [clases, fa, frStr, frAcStr]\n",
    "tb.printTable(encabezados, contenido)\n",
    "\n",
    "# Creamos graficas\n",
    "graf.createBarDiagram(clases, fa)\n",
    "graf.createPieChart(clases, fa, fr)"
   ]
  },
  {
   "cell_type": "markdown",
   "id": "5150a106-69cf-41dd-828c-392eb7395e81",
   "metadata": {},
   "source": [
    "## Ejercicio 8. Tecnología"
   ]
  },
  {
   "cell_type": "code",
   "execution_count": null,
   "id": "794ee078-f1b4-45e5-a812-2ea2a732092e",
   "metadata": {},
   "outputs": [],
   "source": []
  },
  {
   "cell_type": "markdown",
   "id": "4f550e3b-93c0-425e-a138-8c30d5a57ec5",
   "metadata": {},
   "source": [
    "## Ejercicio 12. Nutrición."
   ]
  },
  {
   "cell_type": "code",
   "execution_count": null,
   "id": "daab167b-b9b9-4478-8a7d-1b4de777c29b",
   "metadata": {},
   "outputs": [],
   "source": []
  },
  {
   "cell_type": "markdown",
   "id": "31d75a0c-3cbe-4454-bb92-4c2b05214ef8",
   "metadata": {},
   "source": [
    "## Ejercicio 15. Sociedad"
   ]
  },
  {
   "cell_type": "code",
   "execution_count": null,
   "id": "7fb89311-ed0f-4eb6-844f-c3ac05987d68",
   "metadata": {},
   "outputs": [],
   "source": []
  }
 ],
 "metadata": {
  "kernelspec": {
   "display_name": "Python 3 (ipykernel)",
   "language": "python",
   "name": "python3"
  },
  "language_info": {
   "codemirror_mode": {
    "name": "ipython",
    "version": 3
   },
   "file_extension": ".py",
   "mimetype": "text/x-python",
   "name": "python",
   "nbconvert_exporter": "python",
   "pygments_lexer": "ipython3",
   "version": "3.11.4"
  }
 },
 "nbformat": 4,
 "nbformat_minor": 5
}
